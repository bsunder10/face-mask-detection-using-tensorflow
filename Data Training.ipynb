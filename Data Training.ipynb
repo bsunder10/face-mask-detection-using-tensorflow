{
 "cells": [
  {
   "cell_type": "code",
   "execution_count": 1,
   "metadata": {},
   "outputs": [],
   "source": [
    "import numpy as np\n",
    "\n",
    "data = np.load('data.npy')\n",
    "target = np.load('target.npy')"
   ]
  },
  {
   "cell_type": "code",
   "execution_count": 15,
   "metadata": {},
   "outputs": [],
   "source": [
    "from keras.models import Sequential\n",
    "from keras.layers import Dense, Activation, Flatten, Dropout, Conv2D, MaxPooling2D\n",
    "from keras.callbacks import ModelCheckpoint\n",
    "from __future__ import print_function\n",
    "\n",
    "model = Sequential()\n",
    "\n",
    "# The first layer of CNN\n",
    "model.add(Conv2D(250, (3, 3), input_shape = data.shape[1:]))\n",
    "model.add(Activation('relu'))\n",
    "model.add(MaxPooling2D(pool_size=(2,2)))\n",
    "\n",
    "# The Second layer of CNN\n",
    "model.add(Conv2D(200, (3,3)))\n",
    "model.add(Activation('relu'))\n",
    "model.add(MaxPooling2D(pool_size=(2,2)))\n",
    "\n",
    "# The Third layer of CNN\n",
    "model.add(Conv2D(150, (3,3)))\n",
    "model.add(Activation('relu'))\n",
    "model.add(MaxPooling2D(pool_size=(2,2)))\n",
    "\n",
    "# The Fourth layer of CNN\n",
    "model.add(Conv2D(100,(3,3)))\n",
    "model.add(Activation('relu'))\n",
    "model.add(MaxPooling2D(pool_size=(2,2)))\n",
    "\n",
    "# The Fifth layer of CNN\n",
    "model.add(Conv2D(75,(3,3)))\n",
    "model.add(Activation('relu'))\n",
    "model.add(MaxPooling2D(pool_size=(2,2)))\n",
    "\n",
    "# Flattern the layer\n",
    "model.add(Flatten())\n",
    "model.add(Dropout(0.5))\n",
    "# Dense layer of 64 neurons\n",
    "model.add(Dense(50, activation='relu'))\n",
    "# Final layer of 2 categories\n",
    "model.add(Dense(2, activation='softmax'))\n",
    "\n",
    "model.compile(loss = 'categorical_crossentropy', optimizer = 'adamax', metrics = ['accuracy'])"
   ]
  },
  {
   "cell_type": "code",
   "execution_count": 17,
   "metadata": {},
   "outputs": [],
   "source": [
    "from sklearn.model_selection import train_test_split\n",
    "train_data, test_data, train_target, test_target = train_test_split(data, target, test_size=0.1)"
   ]
  },
  {
   "cell_type": "code",
   "execution_count": 18,
   "metadata": {},
   "outputs": [
    {
     "name": "stdout",
     "output_type": "stream",
     "text": [
      "Epoch 1/5\n",
      "31/31 [==============================] - ETA: 0s - loss: 0.6949 - accuracy: 0.5051 INFO:tensorflow:Assets written to: model-01.model\\assets\n",
      "31/31 [==============================] - 342s 11s/step - loss: 0.6949 - accuracy: 0.5051 - val_loss: 0.6772 - val_accuracy: 0.5282\n",
      "Epoch 2/5\n",
      "31/31 [==============================] - ETA: 0s - loss: 0.6627 - accuracy: 0.6061 INFO:tensorflow:Assets written to: model-02.model\\assets\n",
      "31/31 [==============================] - 343s 11s/step - loss: 0.6627 - accuracy: 0.6061 - val_loss: 0.5852 - val_accuracy: 0.6895\n",
      "Epoch 3/5\n",
      "31/31 [==============================] - ETA: 0s - loss: 0.4977 - accuracy: 0.7778 INFO:tensorflow:Assets written to: model-03.model\\assets\n",
      "31/31 [==============================] - 351s 11s/step - loss: 0.4977 - accuracy: 0.7778 - val_loss: 0.3812 - val_accuracy: 0.8226\n",
      "Epoch 4/5\n",
      "31/31 [==============================] - ETA: 0s - loss: 0.3005 - accuracy: 0.8828 INFO:tensorflow:Assets written to: model-04.model\\assets\n",
      "31/31 [==============================] - 355s 11s/step - loss: 0.3005 - accuracy: 0.8828 - val_loss: 0.2270 - val_accuracy: 0.9194\n",
      "Epoch 5/5\n",
      "31/31 [==============================] - ETA: 0s - loss: 0.2471 - accuracy: 0.9030 INFO:tensorflow:Assets written to: model-05.model\\assets\n",
      "31/31 [==============================] - 359s 12s/step - loss: 0.2471 - accuracy: 0.9030 - val_loss: 0.2079 - val_accuracy: 0.9234\n"
     ]
    }
   ],
   "source": [
    "checkpoint = ModelCheckpoint('model-{epoch:02d}.model', monitor='val_loss', verbose=0, save_best_only=True, mode='auto')\n",
    "history = model.fit(train_data, train_target, epochs=5, callbacks=[checkpoint], validation_split=0.2)"
   ]
  },
  {
   "cell_type": "code",
   "execution_count": 20,
   "metadata": {},
   "outputs": [
    {
     "name": "stdout",
     "output_type": "stream",
     "text": [
      "Model: \"sequential_3\"\n",
      "_________________________________________________________________\n",
      "Layer (type)                 Output Shape              Param #   \n",
      "=================================================================\n",
      "conv2d_11 (Conv2D)           (None, 126, 126, 250)     2500      \n",
      "_________________________________________________________________\n",
      "activation_11 (Activation)   (None, 126, 126, 250)     0         \n",
      "_________________________________________________________________\n",
      "max_pooling2d_9 (MaxPooling2 (None, 63, 63, 250)       0         \n",
      "_________________________________________________________________\n",
      "conv2d_12 (Conv2D)           (None, 61, 61, 200)       450200    \n",
      "_________________________________________________________________\n",
      "activation_12 (Activation)   (None, 61, 61, 200)       0         \n",
      "_________________________________________________________________\n",
      "max_pooling2d_10 (MaxPooling (None, 30, 30, 200)       0         \n",
      "_________________________________________________________________\n",
      "conv2d_13 (Conv2D)           (None, 28, 28, 150)       270150    \n",
      "_________________________________________________________________\n",
      "activation_13 (Activation)   (None, 28, 28, 150)       0         \n",
      "_________________________________________________________________\n",
      "max_pooling2d_11 (MaxPooling (None, 14, 14, 150)       0         \n",
      "_________________________________________________________________\n",
      "conv2d_14 (Conv2D)           (None, 12, 12, 100)       135100    \n",
      "_________________________________________________________________\n",
      "activation_14 (Activation)   (None, 12, 12, 100)       0         \n",
      "_________________________________________________________________\n",
      "max_pooling2d_12 (MaxPooling (None, 6, 6, 100)         0         \n",
      "_________________________________________________________________\n",
      "conv2d_15 (Conv2D)           (None, 4, 4, 75)          67575     \n",
      "_________________________________________________________________\n",
      "activation_15 (Activation)   (None, 4, 4, 75)          0         \n",
      "_________________________________________________________________\n",
      "max_pooling2d_13 (MaxPooling (None, 2, 2, 75)          0         \n",
      "_________________________________________________________________\n",
      "flatten_2 (Flatten)          (None, 300)               0         \n",
      "_________________________________________________________________\n",
      "dropout_2 (Dropout)          (None, 300)               0         \n",
      "_________________________________________________________________\n",
      "dense_4 (Dense)              (None, 50)                15050     \n",
      "_________________________________________________________________\n",
      "dense_5 (Dense)              (None, 2)                 102       \n",
      "=================================================================\n",
      "Total params: 940,677\n",
      "Trainable params: 940,677\n",
      "Non-trainable params: 0\n",
      "_________________________________________________________________\n",
      "None\n"
     ]
    }
   ],
   "source": [
    "print(model.summary())"
   ]
  },
  {
   "cell_type": "code",
   "execution_count": 21,
   "metadata": {},
   "outputs": [
    {
     "data": {
      "image/png": "[encoded data removed]",
      "text/plain": [
       "<Figure size 432x288 with 1 Axes>"
      ]
     },
     "metadata": {
      "needs_background": "light"
     },
     "output_type": "display_data"
    }
   ],
   "source": [
    "import matplotlib.pyplot as plt\n",
    "\n",
    "plt.plot(history.history['loss'], 'r', label = 'Training Loss')\n",
    "plt.plot(history.history['val_loss'], label = 'Validation Loss')\n",
    "plt.xlabel('Epoch')\n",
    "plt.ylabel('Loss')\n",
    "plt.ylim((0,1))\n",
    "plt.legend()\n",
    "plt.show()"
   ]
  },
  {
   "cell_type": "code",
   "execution_count": 22,
   "metadata": {},
   "outputs": [
    {
     "data": {
      "image/png": "[encoded data removed]",
      "text/plain": [
       "<Figure size 432x288 with 1 Axes>"
      ]
     },
     "metadata": {
      "needs_background": "light"
     },
     "output_type": "display_data"
    }
   ],
   "source": [
    "plt.plot(history.history['accuracy'], 'r', label='Training Accuracy')\n",
    "plt.plot(history.history['val_accuracy'], label='Validation Accuracy')\n",
    "plt.xlabel('Epoch')\n",
    "plt.ylabel('Accuracy')\n",
    "plt.ylim((0,1))\n",
    "plt.legend()\n",
    "plt.show()"
   ]
  },
  {
   "cell_type": "code",
   "execution_count": null,
   "metadata": {},
   "outputs": [],
   "source": []
  }
 ],
 "metadata": {
  "kernelspec": {
   "display_name": "venv",
   "language": "python",
   "name": "venv"
  },
  "language_info": {
   "codemirror_mode": {
    "name": "ipython",
    "version": 3
   },
   "file_extension": ".py",
   "mimetype": "text/x-python",
   "name": "python",
   "nbconvert_exporter": "python",
   "pygments_lexer": "ipython3",
   "version": "3.8.5"
  }
 },
 "nbformat": 4,
 "nbformat_minor": 4
}
